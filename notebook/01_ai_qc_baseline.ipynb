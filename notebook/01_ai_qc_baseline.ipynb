{
 "cells": [
  {
   "cell_type": "markdown",
   "id": "2944fa10",
   "metadata": {},
   "source": [
    "✅ Objectif :\n",
    "Charger ton dataset et vérifier les colonnes."
   ]
  },
  {
   "cell_type": "code",
   "execution_count": 1,
   "id": "1e09a28f",
   "metadata": {},
   "outputs": [
    {
     "ename": "ModuleNotFoundError",
     "evalue": "No module named 'seaborn'",
     "output_type": "error",
     "traceback": [
      "\u001b[1;31m---------------------------------------------------------------------------\u001b[0m",
      "\u001b[1;31mModuleNotFoundError\u001b[0m                       Traceback (most recent call last)",
      "Cell \u001b[1;32mIn[1], line 4\u001b[0m\n\u001b[0;32m      2\u001b[0m \u001b[38;5;28;01mimport\u001b[39;00m \u001b[38;5;21;01mnumpy\u001b[39;00m \u001b[38;5;28;01mas\u001b[39;00m \u001b[38;5;21;01mnp\u001b[39;00m\n\u001b[0;32m      3\u001b[0m \u001b[38;5;28;01mimport\u001b[39;00m \u001b[38;5;21;01mmatplotlib\u001b[39;00m\u001b[38;5;21;01m.\u001b[39;00m\u001b[38;5;21;01mpyplot\u001b[39;00m \u001b[38;5;28;01mas\u001b[39;00m \u001b[38;5;21;01mplt\u001b[39;00m\n\u001b[1;32m----> 4\u001b[0m \u001b[38;5;28;01mimport\u001b[39;00m \u001b[38;5;21;01mseaborn\u001b[39;00m \u001b[38;5;28;01mas\u001b[39;00m \u001b[38;5;21;01msns\u001b[39;00m\n\u001b[0;32m      5\u001b[0m \u001b[38;5;28;01mfrom\u001b[39;00m \u001b[38;5;21;01msklearn\u001b[39;00m\u001b[38;5;21;01m.\u001b[39;00m\u001b[38;5;21;01mmodel_selection\u001b[39;00m \u001b[38;5;28;01mimport\u001b[39;00m train_test_split\n\u001b[0;32m      6\u001b[0m \u001b[38;5;28;01mfrom\u001b[39;00m \u001b[38;5;21;01msklearn\u001b[39;00m\u001b[38;5;21;01m.\u001b[39;00m\u001b[38;5;21;01mpreprocessing\u001b[39;00m \u001b[38;5;28;01mimport\u001b[39;00m StandardScaler, OneHotEncoder\n",
      "\u001b[1;31mModuleNotFoundError\u001b[0m: No module named 'seaborn'"
     ]
    }
   ],
   "source": [
    "import pandas as pd\n",
    "import numpy as np\n",
    "import matplotlib.pyplot as plt\n",
    "import seaborn as sns\n",
    "from sklearn.model_selection import train_test_split\n",
    "from sklearn.preprocessing import StandardScaler, OneHotEncoder\n",
    "from sklearn.compose import ColumnTransformer\n",
    "from sklearn.pipeline import Pipeline\n",
    "from sklearn.linear_model import LogisticRegression\n",
    "from sklearn.metrics import accuracy_score, roc_auc_score, classification_report\n",
    "\n",
    "sns.set(style=\"whitegrid\")\n",
    "plt.rcParams[\"figure.figsize\"] = (8,5)\n",
    "\n",
    "df = pd.read_csv(\"../data/synthetic_satellite_logs.csv\")\n",
    "print(\"✅ Data loaded:\", df.shape)\n",
    "df.head()\n"
   ]
  },
  {
   "cell_type": "markdown",
   "id": "1d55e8fd",
   "metadata": {},
   "source": [
    "💡 Regarde les ordres de grandeur : SNR, RSSI, latences, etc."
   ]
  },
  {
   "cell_type": "code",
   "execution_count": null,
   "id": "dfc57ee3",
   "metadata": {},
   "outputs": [],
   "source": [
    "df.describe()"
   ]
  },
  {
   "cell_type": "markdown",
   "id": "21a50b24",
   "metadata": {},
   "source": [
    "Corrélation et premières visualisations\n",
    "\n",
    "Tu verras probablement :\n",
    "    SNR, RSSI, battery corrélés positivement à success\n",
    "    distance, humidity, latency_sat corrélés négativement"
   ]
  },
  {
   "cell_type": "code",
   "execution_count": null,
   "id": "1622dc91",
   "metadata": {},
   "outputs": [],
   "source": [
    "corr = df.corr(numeric_only=True)\n",
    "sns.heatmap(corr, annot=True, cmap=\"coolwarm\")\n",
    "plt.title(\"Correlation heatmap\")\n",
    "plt.show()"
   ]
  },
  {
   "cell_type": "markdown",
   "id": "ba6be715",
   "metadata": {},
   "source": [
    "Tu vérifies visuellement ce que ton intuition (et le logit) disait."
   ]
  },
  {
   "cell_type": "code",
   "execution_count": null,
   "id": "343d2450",
   "metadata": {},
   "outputs": [],
   "source": [
    "sns.boxplot(x=\"success\", y=\"snr\", data=df)\n",
    "plt.title(\"SNR distribution by success\")\n",
    "plt.show()\n",
    "\n",
    "sns.boxplot(x=\"success\", y=\"rssi\", data=df)\n",
    "plt.title(\"RSSI distribution by success\")\n",
    "plt.show()\n",
    "\n",
    "sns.boxplot(x=\"success\", y=\"distance\", data=df)\n",
    "plt.title(\"Distance vs success\")\n",
    "plt.show()\n"
   ]
  },
  {
   "cell_type": "markdown",
   "id": "5a4f4ce5",
   "metadata": {},
   "source": [
    "Préparation des données pour le modèle"
   ]
  },
  {
   "cell_type": "code",
   "execution_count": null,
   "id": "31291cb7",
   "metadata": {},
   "outputs": [],
   "source": [
    "# Variables explicatives et cible\n",
    "X = df.drop(columns=[\"success\"])\n",
    "y = df[\"success\"]\n",
    "\n",
    "# Définir colonnes numériques et catégorielles\n",
    "num_cols = [\"snr\",\"rssi\",\"distance\",\"latency_bt\",\"latency_sat\",\n",
    "             \"temperature\",\"humidity\",\"battery\",\"latitude\",\"longitude\",\"altitude\"]\n",
    "cat_cols = [\"firmware\",\"time_of_day\"]\n",
    "\n",
    "# Préprocesseur\n",
    "preproc = ColumnTransformer([\n",
    "    (\"num\", StandardScaler(), num_cols),\n",
    "    (\"cat\", OneHotEncoder(handle_unknown=\"ignore\"), cat_cols)\n",
    "])\n",
    "\n",
    "# Split train/test\n",
    "X_train, X_test, y_train, y_test = train_test_split(X, y, test_size=0.2, stratify=y, random_state=42)\n",
    "print(X_train.shape, X_test.shape)\n"
   ]
  },
  {
   "cell_type": "markdown",
   "id": "ff84765d",
   "metadata": {},
   "source": [
    "Modèle baseline : Logistic Regression\n",
    "\n",
    "Interprétation :\n",
    "    Accuracy = pourcentage de bonnes prédictions\n",
    "    ROC AUC = capacité à classer les cas bons / mauvais (1 = parfait)\n",
    "    Tu devrais être entre 0.80 et 0.90 (normal, car ton modèle apprend la logique du logit simulé)."
   ]
  },
  {
   "cell_type": "markdown",
   "id": "cb4eea46",
   "metadata": {},
   "source": [
    "clf = Pipeline([\n",
    "    (\"preproc\", preproc),\n",
    "    (\"model\", LogisticRegression(max_iter=1000))\n",
    "])\n",
    "\n",
    "clf.fit(X_train, y_train)\n",
    "y_pred = clf.predict(X_test)\n",
    "y_proba = clf.predict_proba(X_test)[:,1]\n",
    "\n",
    "print(\"Accuracy:\", round(accuracy_score(y_test, y_pred), 3))\n",
    "print(\"ROC AUC:\", round(roc_auc_score(y_test, y_proba), 3))\n",
    "print(classification_report(y_test, y_pred))"
   ]
  },
  {
   "cell_type": "markdown",
   "id": "a21d15a9",
   "metadata": {},
   "source": [
    "Tu vois quelles variables influencent le plus la probabilité de succès :\n",
    "→ snr, rssi, distance, firmware_v2.0, etc."
   ]
  },
  {
   "cell_type": "code",
   "execution_count": null,
   "id": "a0fea103",
   "metadata": {},
   "outputs": [],
   "source": [
    "model = clf.named_steps[\"model\"]\n",
    "preprocessor = clf.named_steps[\"preproc\"]\n",
    "\n",
    "feature_names = list(preprocessor.named_transformers_[\"num\"].get_feature_names_out(num_cols)) + \\\n",
    "                list(preprocessor.named_transformers_[\"cat\"].get_feature_names_out(cat_cols))\n",
    "\n",
    "importance = pd.DataFrame({\n",
    "    \"feature\": feature_names,\n",
    "    \"coef\": model.coef_[0]\n",
    "}).sort_values(\"coef\", ascending=False)\n",
    "\n",
    "sns.barplot(data=importance, y=\"feature\", x=\"coef\", palette=\"coolwarm\")\n",
    "plt.title(\"Feature importance (Logistic Regression)\")\n",
    "plt.show()\n",
    "\n",
    "importance.head(10)\n"
   ]
  },
  {
   "cell_type": "markdown",
   "id": "649b60db",
   "metadata": {},
   "source": [
    "Sauvegarde du modèle"
   ]
  },
  {
   "cell_type": "code",
   "execution_count": null,
   "id": "0f7be8a9",
   "metadata": {},
   "outputs": [],
   "source": [
    "import joblib\n",
    "import os\n",
    "\n",
    "os.makedirs(\"../models\", exist_ok=True)\n",
    "joblib.dump(clf, \"../models/qc_baseline_model.joblib\")\n",
    "\n",
    "print(\"✅ Model saved as qc_baseline_model.joblib\")"
   ]
  }
 ],
 "metadata": {
  "kernelspec": {
   "display_name": "Python 3",
   "language": "python",
   "name": "python3"
  },
  "language_info": {
   "codemirror_mode": {
    "name": "ipython",
    "version": 3
   },
   "file_extension": ".py",
   "mimetype": "text/x-python",
   "name": "python",
   "nbconvert_exporter": "python",
   "pygments_lexer": "ipython3",
   "version": "3.12.0"
  }
 },
 "nbformat": 4,
 "nbformat_minor": 5
}
