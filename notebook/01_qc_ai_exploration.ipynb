{
 "cells": [
  {
   "cell_type": "markdown",
   "id": "7639e2ed",
   "metadata": {},
   "source": [
    "# 🛰️ AI-Driven Quality Intelligence System  \n",
    "### Notebook: Data Exploration & Baseline Model  \n",
    "\n",
    "**Objective:**  \n",
    "This notebook explores how environmental and device parameters (SNR, RSSI, temperature, etc.) influence communication success between mobile devices and a satellite relay.  \n",
    "\n",
    "**Goals:**  \n",
    "- Understand the data structure and correlations  \n",
    "- Build a simple baseline model (Logistic Regression)  \n",
    "- Evaluate early results before adding complexity  \n",
    "\n",
    "**Author:** Nicolas Danquigny  \n",
    "**Date:** 15/10/2025\n"
   ]
  }
 ],
 "metadata": {
  "kernelspec": {
   "display_name": "Python 3",
   "language": "python",
   "name": "python3"
  },
  "language_info": {
   "codemirror_mode": {
    "name": "ipython",
    "version": 3
   },
   "file_extension": ".py",
   "mimetype": "text/x-python",
   "name": "python",
   "nbconvert_exporter": "python",
   "pygments_lexer": "ipython3",
   "version": "3.12.0"
  }
 },
 "nbformat": 4,
 "nbformat_minor": 5
}
